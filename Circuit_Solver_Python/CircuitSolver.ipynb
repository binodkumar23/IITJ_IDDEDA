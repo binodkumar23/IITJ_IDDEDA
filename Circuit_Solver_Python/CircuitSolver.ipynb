{
  "cells": [
    {
      "cell_type": "markdown",
      "metadata": {
        "id": "x2Lti6Kp6wj7"
      },
      "source": [
        "##INPUT:"
      ]
    },
    {
      "cell_type": "code",
      "execution_count": 7,
      "metadata": {
        "colab": {
          "base_uri": "https://localhost:8080/"
        },
        "id": "-PpoR8jo6udb",
        "outputId": "a1d70f75-482f-4629-f6e1-e83e614e364d"
      },
      "outputs": [
        {
          "name": "stdout",
          "output_type": "stream",
          "text": [
            "['G0', 'G1', 'G2', 'G3', 'G5', 'G6', 'G7']\n",
            "['G17', 'G10', 'G11', 'G13']\n",
            "[['G14', 'NOT', 'G0'], ['G17', 'NOT', 'G11'], ['G8', 'AND', 'G14', 'G6'], ['G15', 'OR', 'G12', 'G8'], ['G16', 'OR', 'G3', 'G8'], ['G9', 'NAND', 'G16', 'G15'], ['G10', 'NOR', 'G14', 'G11'], ['G11', 'NOR', 'G5', 'G9'], ['G12', 'NOR', 'G1', 'G7'], ['G13', 'NOR', 'G2', 'G12']]\n"
          ]
        }
      ],
      "source": [
        "import re\n",
        "\n",
        "inputs = []\n",
        "outputs = {}\n",
        "circuit = []\n",
        "path = input(\"Enter path to input file: \")\n",
        "\n",
        "with open(path) as f:\n",
        "\n",
        "    line = f.readline()\n",
        "    while line[0] == \"#\":\n",
        "        line = f.readline()\n",
        "    line = f.readline()\n",
        "\n",
        "    while line.strip() != '':\n",
        "        k = line[6:]\n",
        "        k = k[:len(k)-2]\n",
        "        inputs.append(k)\n",
        "        line = f.readline()\n",
        "    line = f.readline()\n",
        "\n",
        "    while line.strip() != '':\n",
        "        k = line[7:]\n",
        "        k = k[:len(k)-2]\n",
        "        outputs[k] = 1\n",
        "        line = f.readline()\n",
        "    line = f.readline()\n",
        "\n",
        "    while line.strip() != '':\n",
        "        l = re.split(\"\\W+\", line)\n",
        "        l.remove('')\n",
        "        circuit.append(l)\n",
        "        line = f.readline()\n",
        "\n",
        "print(inputs)\n",
        "print(list(outputs.keys()))\n",
        "print(circuit)"
      ]
    },
    {
      "cell_type": "markdown",
      "metadata": {
        "id": "Vhjuj2rB7NZu"
      },
      "source": [
        "##Utilary Functions:"
      ]
    },
    {
      "cell_type": "code",
      "execution_count": 8,
      "metadata": {
        "id": "lLwRtrXW7Smy"
      },
      "outputs": [],
      "source": [
        "def createSubExp(x):\n",
        "\n",
        "    l = []\n",
        "\n",
        "    if x[1] == \"NOT\":\n",
        "        return str(\"(\" + \"!\" + x[0] + \"+\" + \"!\" + x[2] + \")\" + \"(\" + x[0] + \"+\" + x[2] + \")\")\n",
        "    elif x[1] == \"OR\":\n",
        "        m = [str(\"(!\"+x[0]), \")\"]\n",
        "        for i in range(2, len(x)):\n",
        "            l.append(str(\"(\" + x[0] + \"+\" + \"!\" + x[i] + \")\"))\n",
        "            m.insert(-1, str(\"+\"+x[i]))\n",
        "        l.append(''.join(m))\n",
        "        s = ''.join(l)\n",
        "    elif x[1] == \"AND\":\n",
        "        m = [str(\"(\"+x[0]), \")\"]\n",
        "        for i in range(2, len(x)):\n",
        "            l.append(str(\"(\" + \"!\" + x[0] + \"+\" + x[i] + \")\"))\n",
        "            m.insert(-1, str(\"+!\"+x[i]))\n",
        "        l.append(''.join(m))\n",
        "        s = ''.join(l)\n",
        "    elif x[1] == \"NOR\":\n",
        "        m = [str(\"(\"+x[0]), \")\"]\n",
        "        for i in range(2, len(x)):\n",
        "            l.append(str(\"(!\" + x[0] + \"+\" + \"!\" + x[i] + \")\"))\n",
        "            m.insert(-1, str(\"+\"+x[i]))\n",
        "        l.append(''.join(m))\n",
        "        s = ''.join(l)\n",
        "    elif x[1] == \"NAND\":\n",
        "        m = [str(\"(!\"+x[0]), \")\"]\n",
        "        for i in range(2, len(x)):\n",
        "            l.append(str(\"(\" + x[0] + \"+\" + x[i] + \")\"))\n",
        "            m.insert(-1, str(\"+!\"+x[i]))\n",
        "        l.append(''.join(m))\n",
        "        s = ''.join(l)\n",
        "    elif x[1] == \"XOR\":\n",
        "        return str(\"(\" + \"!\" + x[2] + \"+\" + \"!\" + x[3] + \"+\" + \"!\" + x[0] + \")\" + \"(\" + x[2] + \"+\" + x[3] + \"+\" + \"!\" + x[0] + \")\" + \"(\" + \"!\" + x[2] + \"+\" + x[3] + \"+\" + x[0] + \")\" + \"(\" + x[2] + \"+\" + \"!\" + x[3] + \"+\" + x[0] + \")\")\n",
        "    elif x[1] == \"XNOR\":\n",
        "        return str(\"(\" + \"!\" + x[2] + \"+\" + \"!\" + x[3] + \"+\" + x[0] + \")\" + \"(\" + x[2] + \"+\" + x[3] + \"+\" + x[0] + \")\" + \"(\" + \"!\" + x[2] + \"+\" + x[3] + \"+\" + \"!\" + x[0] + \")\" + \"(\" + x[2] + \"+\" + \"!\" + x[3] + \"+\" + \"!\" + x[0] + \")\")\n",
        "    return s\n",
        "    \n",
        "def setOuputsinCNF(d):\n",
        "    lis = []\n",
        "    for i in d:\n",
        "        if d[i] == 0:\n",
        "            lis.append(str(\"(\" + \"!\" + i + \")\"))\n",
        "        else:\n",
        "            lis.append(str(\"(\" + i + \")\"))\n",
        "    return ''.join(lis)\n",
        "\n",
        "def dplltoanswer(p,q):\n",
        "    d = {}\n",
        "    for i in inputs:\n",
        "        if q[i] in p:\n",
        "            d[i] = 1\n",
        "        elif -q[i] in p:\n",
        "            d[i] = 0\n",
        "        else:\n",
        "            d[i] = 1\n",
        "    return d\n",
        "\n",
        "def removeElements(l,listOfElements):\n",
        "    l2=[]\n",
        "    for i in l:\n",
        "        if i not in listOfElements:\n",
        "            l2.append(i)\n",
        "    return l2\n",
        "\n",
        "def pos(s,d):\n",
        "    temp = []\n",
        "    b = []\n",
        "    l = []\n",
        "    k = 1\n",
        "    v = 1\n",
        "    for i in s:\n",
        "        if i=='(':\n",
        "            continue\n",
        "        elif i.isalnum():\n",
        "            temp.append(i)\n",
        "        elif i=='!':\n",
        "            k = -1\n",
        "        elif i == ')' or '+':\n",
        "            j = ''.join(temp)\n",
        "            if j not in d:\n",
        "                d[j] = v\n",
        "                v = v + 1\n",
        "            b.append(k*d[j])\n",
        "            k = 1\n",
        "            temp = []\n",
        "            if i == ')':\n",
        "                l.append(b)\n",
        "                b = []\n",
        "    return l\n"
      ]
    },
    {
      "cell_type": "markdown",
      "metadata": {
        "id": "QNDYWxn87UnO"
      },
      "source": [
        "#DPLL:"
      ]
    },
    {
      "cell_type": "code",
      "execution_count": 9,
      "metadata": {
        "id": "E3HI5KaS7X0y"
      },
      "outputs": [],
      "source": [
        "def internal_dpll(l,s,a=-1,k=True,answers=[]):\n",
        "    global Answers\n",
        "    pol=1\n",
        "    elements=[]\n",
        "    if(a==len(s)):\n",
        "        return\n",
        "    elif(a>=0):\n",
        "        if k:\n",
        "            pol=1\n",
        "        else :\n",
        "            pol=pol*-1\n",
        "        for i in l:\n",
        "            if s[a]*pol in i:\n",
        "                elements.append(i)\n",
        "            elif s[a]*pol*-1 in i:\n",
        "                #print(\"f\",s[a]*pol*-1)\n",
        "                if (s[a]*pol*-1)<0 and (s[a]*pol==max(abs(min(i)),abs(max(i)))):\n",
        "                    return\n",
        "                if (s[a]*pol*-1)>0 and (s[a]*pol*-1==max(abs(min(i)),abs(max(i)))):\n",
        "                    return\n",
        "                else:\n",
        "                    continue\n",
        "    l2=removeElements(l,elements)\n",
        "    if(l2==[]):\n",
        "        \n",
        "        Answers.append(answers[1:]+[s[a]*pol])\n",
        "        return\n",
        "    else:\n",
        "        internal_dpll(l2,s,a+1,True,answers+[s[a]*pol]) \n",
        "        internal_dpll(l2,s,a+1,False,answers+[s[a]*pol]) \n",
        "        return\n"
      ]
    },
    {
      "cell_type": "code",
      "execution_count": 10,
      "metadata": {
        "id": "wGepzc_d7bzj"
      },
      "outputs": [],
      "source": [
        "def DPLL(l,final_list=[]):\n",
        "    count={}\n",
        "    mySet=set()\n",
        "    #unit propogation\n",
        "    for i in reversed(l):\n",
        "        if(len(i)==1):\n",
        "            final_list.append(i[0])\n",
        "    \n",
        "    for i in l:\n",
        "        for j in i:\n",
        "            if j in count:\n",
        "                pass\n",
        "            elif -1*j not in count:\n",
        "                if j not in count:\n",
        "                    count[j]=True\n",
        "                elif(count[i]==False):\n",
        "                    continue\n",
        "            elif -1*j in count:\n",
        "                count[-1*j]=False\n",
        "    for i in count:\n",
        "        if count[i]==True:\n",
        "            final_list.append(i)\n",
        "    deleteElements=[]\n",
        "    for i in l:\n",
        "        for j in i:\n",
        "            if (j in final_list):\n",
        "                deleteElements.append(i)\n",
        "            elif(-1*j in final_list) :\n",
        "                if type(i) == type(None): \n",
        "                  continue\n",
        "                elif type(j) == type(None): \n",
        "                  continue\n",
        "                else:\n",
        "                  i=i.remove(j)\n",
        "            else:\n",
        "                mySet.add(abs(j))\n",
        "    \n",
        "    l=removeElements(l,deleteElements)\n",
        "    if([] in l):\n",
        "      print(\"Unsatisfiable\")\n",
        "      return\n",
        "    internal_dpll(l,list(mySet),-1,True,[])"
      ]
    },
    {
      "cell_type": "markdown",
      "metadata": {
        "id": "lA3kBY3m7hK_"
      },
      "source": [
        "#SOLUTION:"
      ]
    },
    {
      "cell_type": "code",
      "execution_count": 11,
      "metadata": {
        "colab": {
          "base_uri": "https://localhost:8080/"
        },
        "id": "T53U0gVs7j4K",
        "outputId": "2d87a635-7da5-495f-dfc0-c912118563d3"
      },
      "outputs": [
        {
          "name": "stdout",
          "output_type": "stream",
          "text": [
            "(!G14+!G0)(G14+G0)(!G17+!G11)(G17+G11)(!G8+G14)(!G8+G6)(G8+!G14+!G6)(G15+!G12)(G15+!G8)(!G15+G12+G8)(G16+!G3)(G16+!G8)(!G16+G3+G8)(G9+G16)(G9+G15)(!G9+!G16+!G15)(!G10+!G14)(!G10+!G11)(G10+G14+G11)(!G11+!G5)(!G11+!G9)(G11+G5+G9)(!G12+!G1)(!G12+!G7)(G12+G1+G7)(!G13+!G2)(!G13+!G12)(G13+G2+G12)(G17)(!G10)(!G11)(!G13)\n"
          ]
        }
      ],
      "source": [
        "import random\n",
        "m = int(input(\"Set all output literal values randomly? :\"))\n",
        "if m==1:\n",
        "  for i in outputs:\n",
        "    outputs[i] = random.randint(0,1)\n",
        "  print(\"Note: To see the values that are set, go to the end of the printed CNF formula of the circuit (right below)\")\n",
        "else:\n",
        "  k = int(input(\"Set all output literal values to 1? :\"))\n",
        "  if k==0:\n",
        "    for i in outputs:\n",
        "      outputs[i] = int(input(\"Set the value of \"+i+\" :\"))\n",
        "\n",
        "rawCNF = [''.join([createSubExp(i) for i in circuit]), setOuputsinCNF(outputs)]\n",
        "\n",
        "finalCNF = ''.join(rawCNF)\n",
        "\n",
        "print(finalCNF)"
      ]
    },
    {
      "cell_type": "code",
      "execution_count": 12,
      "metadata": {
        "colab": {
          "base_uri": "https://localhost:8080/"
        },
        "id": "heC2iEda7nBK",
        "outputId": "dfd84d40-eb6e-4dfe-bceb-59b8e6653d1e"
      },
      "outputs": [
        {
          "name": "stdout",
          "output_type": "stream",
          "text": [
            "{'G0': 0, 'G1': 0, 'G2': 1, 'G3': 1, 'G5': 1, 'G6': 1, 'G7': 0}\n",
            "{'G0': 0, 'G1': 0, 'G2': 1, 'G3': 0, 'G5': 1, 'G6': 1, 'G7': 0}\n",
            "{'G0': 0, 'G1': 1, 'G2': 1, 'G3': 1, 'G5': 1, 'G6': 1, 'G7': 1}\n",
            "{'G0': 0, 'G1': 1, 'G2': 1, 'G3': 1, 'G5': 1, 'G6': 1, 'G7': 0}\n",
            "{'G0': 0, 'G1': 0, 'G2': 1, 'G3': 1, 'G5': 1, 'G6': 1, 'G7': 1}\n",
            "{'G0': 0, 'G1': 1, 'G2': 1, 'G3': 0, 'G5': 1, 'G6': 1, 'G7': 1}\n",
            "{'G0': 0, 'G1': 1, 'G2': 1, 'G3': 0, 'G5': 1, 'G6': 1, 'G7': 0}\n",
            "{'G0': 0, 'G1': 0, 'G2': 1, 'G3': 0, 'G5': 1, 'G6': 1, 'G7': 1}\n",
            "{'G0': 0, 'G1': 0, 'G2': 1, 'G3': 1, 'G5': 1, 'G6': 0, 'G7': 0}\n",
            "{'G0': 0, 'G1': 0, 'G2': 1, 'G3': 0, 'G5': 1, 'G6': 0, 'G7': 0}\n",
            "{'G0': 0, 'G1': 0, 'G2': 1, 'G3': 0, 'G5': 0, 'G6': 0, 'G7': 0}\n",
            "{'G0': 0, 'G1': 1, 'G2': 1, 'G3': 1, 'G5': 1, 'G6': 0, 'G7': 1}\n",
            "{'G0': 0, 'G1': 1, 'G2': 1, 'G3': 1, 'G5': 1, 'G6': 0, 'G7': 0}\n",
            "{'G0': 0, 'G1': 0, 'G2': 1, 'G3': 1, 'G5': 1, 'G6': 0, 'G7': 1}\n",
            "{'G0': 0, 'G1': 1, 'G2': 1, 'G3': 1, 'G5': 0, 'G6': 0, 'G7': 1}\n",
            "{'G0': 0, 'G1': 1, 'G2': 1, 'G3': 1, 'G5': 0, 'G6': 0, 'G7': 0}\n",
            "{'G0': 0, 'G1': 0, 'G2': 1, 'G3': 1, 'G5': 0, 'G6': 0, 'G7': 1}\n",
            "{'G0': 0, 'G1': 1, 'G2': 1, 'G3': 0, 'G5': 1, 'G6': 0, 'G7': 1}\n",
            "{'G0': 0, 'G1': 1, 'G2': 1, 'G3': 0, 'G5': 1, 'G6': 0, 'G7': 0}\n",
            "{'G0': 0, 'G1': 0, 'G2': 1, 'G3': 0, 'G5': 1, 'G6': 0, 'G7': 1}\n",
            "{'G0': 0, 'G1': 1, 'G2': 1, 'G3': 0, 'G5': 0, 'G6': 0, 'G7': 1}\n",
            "{'G0': 0, 'G1': 1, 'G2': 1, 'G3': 0, 'G5': 0, 'G6': 0, 'G7': 0}\n",
            "{'G0': 0, 'G1': 0, 'G2': 1, 'G3': 0, 'G5': 0, 'G6': 0, 'G7': 1}\n"
          ]
        }
      ],
      "source": [
        "d={}\n",
        "Answers=[]\n",
        "l = pos(finalCNF,d)\n",
        "\n",
        "f=[]\n",
        "DPLL(l,f)\n",
        "if Answers==[]:\n",
        "  print(\"UnSatisfiable\")\n",
        "\n",
        "for i in range(len(Answers)):\n",
        "  print(dplltoanswer(Answers[i]+f,d))"
      ]
    }
  ],
  "metadata": {
    "colab": {
      "name": "DesignProject.ipynb",
      "provenance": []
    },
    "kernelspec": {
      "display_name": "Python 3",
      "name": "python3"
    },
    "language_info": {
      "codemirror_mode": {
        "name": "ipython",
        "version": 3
      },
      "file_extension": ".py",
      "mimetype": "text/x-python",
      "name": "python",
      "nbconvert_exporter": "python",
      "pygments_lexer": "ipython3",
      "version": "3.9.4"
    }
  },
  "nbformat": 4,
  "nbformat_minor": 0
}
